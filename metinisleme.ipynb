{
  "nbformat": 4,
  "nbformat_minor": 0,
  "metadata": {
    "colab": {
      "name": "Untitled0.ipynb",
      "provenance": [],
      "collapsed_sections": []
    },
    "kernelspec": {
      "name": "python3",
      "display_name": "Python 3"
    }
  },
  "cells": [
    {
      "cell_type": "code",
      "metadata": {
        "id": "jNl2S2jiHDvG",
        "colab_type": "code",
        "colab": {
          "base_uri": "https://localhost:8080/",
          "height": 231
        },
        "outputId": "7ab928a8-029b-4eaf-a249-64a5347b5b61"
      },
      "source": [
        "from google.colab import files\n",
        "import string\n",
        "okunanDosya = open(\"ornekMetin.txt\", 'rt')\n",
        "okunanMetin = okunanDosya.read()\n",
        "okunanMetin = okunanMetin.lower()\n",
        "okunanDosya.close()\n",
        "print(okunanMetin)\n",
        "anahtarKelimeler = [\n",
        "                    \"bilgi\",\n",
        "                    \"belge\", \n",
        "                    \"açık\",\n",
        "                    \"erişim\", \n",
        "                    \"bilim\", \n",
        "                    \"büyük\",\n",
        "                    \"veri\", \n",
        "                    \"semantik\", \n",
        "                    \"teknoloji\", \n",
        "                    \"makine\",\n",
        "                    \"öğrenmesi\", \n",
        "                    \"yapay\",\n",
        "                    \"zeka\"\n",
        "]\n",
        "print(anahtarKelimeler)\n",
        "for anahtarKelime in anahtarKelimeler:\n",
        "  sonuc = okunanMetin.count(anahtarKelime)\n",
        "  print(anahtarKelime+\": \" + str(sonuc))\n",
        "a = len(okunanDosya.split(' '))\n",
        "print(a)\n",
        "result = ((sonuc*100)/a)\n",
        "print(result)\n",
        "if sonuc>6\n",
        "print(\"Çok İlgili\")\n",
        "elif sonuc>3\n",
        "print(\"İlgili\")\n",
        "else\n",
        "print(\"İlgisiz\")\n",
        "\n",
        "\n",
        "\n"
      ],
      "execution_count": 3,
      "outputs": [
        {
          "output_type": "error",
          "ename": "FileNotFoundError",
          "evalue": "ignored",
          "traceback": [
            "\u001b[0;31m---------------------------------------------------------------------------\u001b[0m",
            "\u001b[0;31mFileNotFoundError\u001b[0m                         Traceback (most recent call last)",
            "\u001b[0;32m<ipython-input-3-6f1dc472e21e>\u001b[0m in \u001b[0;36m<module>\u001b[0;34m()\u001b[0m\n\u001b[1;32m      1\u001b[0m \u001b[0;32mfrom\u001b[0m \u001b[0mgoogle\u001b[0m\u001b[0;34m.\u001b[0m\u001b[0mcolab\u001b[0m \u001b[0;32mimport\u001b[0m \u001b[0mfiles\u001b[0m\u001b[0;34m\u001b[0m\u001b[0;34m\u001b[0m\u001b[0m\n\u001b[1;32m      2\u001b[0m \u001b[0;32mimport\u001b[0m \u001b[0mstring\u001b[0m\u001b[0;34m\u001b[0m\u001b[0;34m\u001b[0m\u001b[0m\n\u001b[0;32m----> 3\u001b[0;31m \u001b[0mokunanDosya\u001b[0m \u001b[0;34m=\u001b[0m \u001b[0mopen\u001b[0m\u001b[0;34m(\u001b[0m\u001b[0;34m\"ornekMetin.txt\"\u001b[0m\u001b[0;34m,\u001b[0m \u001b[0;34m'rt'\u001b[0m\u001b[0;34m)\u001b[0m\u001b[0;34m\u001b[0m\u001b[0;34m\u001b[0m\u001b[0m\n\u001b[0m\u001b[1;32m      4\u001b[0m \u001b[0mokunanMetin\u001b[0m \u001b[0;34m=\u001b[0m \u001b[0mokunanDosya\u001b[0m\u001b[0;34m.\u001b[0m\u001b[0mread\u001b[0m\u001b[0;34m(\u001b[0m\u001b[0;34m)\u001b[0m\u001b[0;34m\u001b[0m\u001b[0;34m\u001b[0m\u001b[0m\n\u001b[1;32m      5\u001b[0m \u001b[0mokunanMetin\u001b[0m \u001b[0;34m=\u001b[0m \u001b[0mokunanMetin\u001b[0m\u001b[0;34m.\u001b[0m\u001b[0mlower\u001b[0m\u001b[0;34m(\u001b[0m\u001b[0;34m)\u001b[0m\u001b[0;34m\u001b[0m\u001b[0;34m\u001b[0m\u001b[0m\n",
            "\u001b[0;31mFileNotFoundError\u001b[0m: [Errno 2] No such file or directory: 'ornekMetin.txt'"
          ]
        }
      ]
    }
  ]
}